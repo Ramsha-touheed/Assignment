{
 "cells": [
  {
   "cell_type": "markdown",
   "metadata": {},
   "source": [
    "## 1. Object-oriented programming (OOP) : \n",
    "OOP is a programming language model in which programs are organized around data, or objects, rather than functions and logic.An object can be defined as a data field that has unique attributes and behavior.Examples of an object can range from physical entities, such as a human being that is described by properties like name and address, down to small computer programs, such as widgets.\n"
   ]
  },
  {
   "cell_type": "markdown",
   "metadata": {},
   "source": [
    "## 2 . Advantages of OOP are : \n",
    "1. Reusability.\n",
    "2. Data redundancy.\n",
    "3. Code maintainence.\n",
    "4. Security.\n",
    "5. Design benefits.\n",
    "6. Better productivity.\n",
    "7. Easy troubleshooting.\n",
    "8. Polymorphism flexibility etc.\n"
   ]
  },
  {
   "cell_type": "markdown",
   "metadata": {},
   "source": [
    "## 3.1 Method\n",
    "\n",
    "1. Method is called by its name, but it is associated to an object (dependent).\n",
    "2. A method is implicitly passed the object on which it is invoked.\n",
    "3. It may or may not return any data.\n",
    "4. A method can operate on the data (instance variables) that is contained by the corresponding class.\n"
   ]
  },
  {
   "cell_type": "markdown",
   "metadata": {},
   "source": [
    "## 3.2 Functions\n",
    "\n",
    "1. Function is block of code that is also called by its name. (independent)\n",
    "2. The function can have different parameters or may not have any at all. If any data (parameters) are passed, they are passed explicitly.\n",
    "3. It may or may not return any data.\n",
    "4. Function does not deal with Class and its instance concept."
   ]
  },
  {
   "cell_type": "markdown",
   "metadata": {},
   "source": [
    "## 4.1 Class :\n",
    "In object-oriented programming, a class is a blueprint for creating objects (a particular data structure), providing initial values for state (member variables or attributes), and implementations of behavior (member functions or methods)."
   ]
  },
  {
   "cell_type": "markdown",
   "metadata": {},
   "source": [
    "## 4.2 Object : \n",
    "An object is a component of a program that knows how to perform certain actions and how to interact with other elements of the program. Objects are the basic units of object-oriented programming."
   ]
  },
  {
   "cell_type": "markdown",
   "metadata": {},
   "source": [
    "## 4.3 Attributes : \n",
    "Attributes are data stored inside a class or instance and represent the state or quality of the class or instance. In short, attributes store information about the instance."
   ]
  },
  {
   "cell_type": "markdown",
   "metadata": {},
   "source": [
    "## 4.4 Behavior : \n",
    "A class's behavior determines how an instance of that class operates; for example, how it will \"react\" if asked to do something by another class or object or if its internal state changes. Behavior is the only way objects can do anything to themselves or have anything done to them."
   ]
  },
  {
   "cell_type": "code",
   "execution_count": 13,
   "metadata": {},
   "outputs": [
    {
     "name": "stdout",
     "output_type": "stream",
     "text": [
      "Details of Car No.1 : \n",
      "Mercedes\n",
      "2015\n",
      "Jet black\n",
      "9000000\n",
      "Daimler AG\n",
      "out of range\n",
      "Available\n",
      "Old Model\n",
      "\n",
      "\n",
      "Details of Car No.2 :\n",
      "Corolla\n",
      "2019\n",
      "White\n",
      "300000\n",
      "Toyota\n",
      "within range\n",
      "Not available\n",
      "New Model\n",
      "\n",
      "\n",
      "Details of Car No.3 :\n",
      "Mehran\n",
      "2008\n",
      "Brown\n",
      "100000\n",
      "Suszuki\n",
      "within range\n",
      "Not available\n",
      "Old Model\n",
      "\n",
      "\n",
      "Details of Car No.4 :\n",
      "Civic\n",
      "2017\n",
      "Red\n",
      "500000\n",
      "Honda\n",
      "out of range\n",
      "Not available\n",
      "Old Model\n",
      "\n",
      "\n",
      "Details of Car No.5 :\n",
      "Cultus\n",
      "2011\n",
      "Black\n",
      "400000\n",
      "Suzuki\n",
      "out of range\n",
      "Not available\n",
      "Old Model\n",
      "\n",
      "\n"
     ]
    }
   ],
   "source": [
    "class car():\n",
    "    def __init__(self,name,model,color,cost,company):\n",
    "        self.name = name \n",
    "        self.model = model \n",
    "        self.color = color \n",
    "        self.cost = cost \n",
    "        self.company = company\n",
    "        \n",
    "    def in_range(self):\n",
    "        if int(self.cost) < 400000:\n",
    "            print(\"within range\")\n",
    "        else:\n",
    "            print(\"out of range\")\n",
    "            \n",
    "    def car_color(self):\n",
    "        if self.color == \"Jet black\":\n",
    "            print(\"Available\")\n",
    "        else:\n",
    "            print(\"Not available\")\n",
    "    \n",
    "    def car_model(self):\n",
    "        if int(self.model) < 2019:\n",
    "            print(\"Old Model\")\n",
    "        else :\n",
    "            print (\"New Model\")\n",
    "            \n",
    "Car1 = car('Mercedes','2015','Jet black','9000000','Daimler AG')\n",
    "Car2 = car('Corolla','2019','White','300000','Toyota')\n",
    "Car3 = car('Mehran','2008','Brown','100000','Suszuki')\n",
    "Car4 = car('Civic','2017','Red','500000','Honda')\n",
    "Car5 = car('Cultus','2011','Black','400000','Suzuki')\n",
    "\n",
    "print(\"Details of Car No.1 : \")\n",
    "print(Car1.name)\n",
    "print(Car1.model)\n",
    "print(Car1.color)\n",
    "print(Car1.cost)\n",
    "print(Car1.company)\n",
    "Car1.in_range()\n",
    "Car1.car_color()\n",
    "Car1.car_model()\n",
    "print(\"\\n\")\n",
    "\n",
    "print(\"Details of Car No.2 :\")\n",
    "print(Car2.name)\n",
    "print(Car2.model)\n",
    "print(Car2.color)\n",
    "print(Car2.cost)\n",
    "print(Car2.company)\n",
    "Car2.in_range()\n",
    "Car2.car_color()\n",
    "Car2.car_model()\n",
    "print(\"\\n\")\n",
    "\n",
    "print(\"Details of Car No.3 :\")\n",
    "print(Car3.name)\n",
    "print(Car3.model)\n",
    "print(Car3.color)\n",
    "print(Car3.cost)\n",
    "print(Car3.company)\n",
    "Car3.in_range()\n",
    "Car3.car_color()\n",
    "Car3.car_model()\n",
    "print(\"\\n\")\n",
    "\n",
    "print(\"Details of Car No.4 :\")\n",
    "print(Car4.name)\n",
    "print(Car4.model)\n",
    "print(Car4.color)\n",
    "print(Car4.cost)\n",
    "print(Car4.company)\n",
    "Car4.in_range()\n",
    "Car4.car_color()\n",
    "Car4.car_model()\n",
    "print(\"\\n\")\n",
    "\n",
    "print(\"Details of Car No.5 :\")\n",
    "print(Car5.name)\n",
    "print(Car5.model)\n",
    "print(Car5.color)\n",
    "print(Car5.cost)\n",
    "print(Car5.company)\n",
    "Car5.in_range()\n",
    "Car5.car_color()\n",
    "Car5.car_model()\n",
    "print(\"\\n\")\n",
    "\n",
    "\n",
    "        \n",
    "    "
   ]
  },
  {
   "cell_type": "code",
   "execution_count": null,
   "metadata": {},
   "outputs": [],
   "source": []
  }
 ],
 "metadata": {
  "kernelspec": {
   "display_name": "Python 3",
   "language": "python",
   "name": "python3"
  },
  "language_info": {
   "codemirror_mode": {
    "name": "ipython",
    "version": 3
   },
   "file_extension": ".py",
   "mimetype": "text/x-python",
   "name": "python",
   "nbconvert_exporter": "python",
   "pygments_lexer": "ipython3",
   "version": "3.7.4"
  }
 },
 "nbformat": 4,
 "nbformat_minor": 2
}
