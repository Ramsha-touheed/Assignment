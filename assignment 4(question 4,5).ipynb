{
 "cells": [
  {
   "cell_type": "code",
   "execution_count": 1,
   "metadata": {},
   "outputs": [
    {
     "name": "stdout",
     "output_type": "stream",
     "text": [
      "chance1:guess the number form 1 to 30: 20\n",
      "chance2:guess the number form 1 to 30: 20\n",
      "chance3:guess the number form 1 to 30: 20\n",
      "the number is  15\n",
      "you lose\n"
     ]
    }
   ],
   "source": [
    "#Assignment 5\n",
    "from random import randint\n",
    "\n",
    "for _ in range(1):\n",
    "    chance1 = input (\"chance1:guess the number form 1 to 30: \")\n",
    "    chance2 = input (\"chance2:guess the number form 1 to 30: \")\n",
    "    chance3 = input (\"chance3:guess the number form 1 to 30: \")\n",
    "    value = randint(1, 30)\n",
    "    print (\"the number is \", value)\n",
    "\n",
    "\n",
    "if chance1 or chance2 or chance3 != value:\n",
    "    print(\"you lose\")\n",
    "else:\n",
    "    print (\"you win\")"
   ]
  },
  {
   "cell_type": "code",
   "execution_count": null,
   "metadata": {},
   "outputs": [],
   "source": [
    "#Assignment 4\n",
    "#definig a function\n",
    "def favourite_book(title):\n",
    "    print (title)\n",
    "    print(\"one of my favourite books is Alice in Wonderland \")\n",
    "    \n",
    "    book_tittle=\"Alice in wonderland\"\n",
    "\n",
    "    \n",
    "    favourite_book(book_title)"
   ]
  },
  {
   "cell_type": "code",
   "execution_count": null,
   "metadata": {},
   "outputs": [],
   "source": []
  }
 ],
 "metadata": {
  "kernelspec": {
   "display_name": "Python 3",
   "language": "python",
   "name": "python3"
  },
  "language_info": {
   "codemirror_mode": {
    "name": "ipython",
    "version": 3
   },
   "file_extension": ".py",
   "mimetype": "text/x-python",
   "name": "python",
   "nbconvert_exporter": "python",
   "pygments_lexer": "ipython3",
   "version": "3.7.4"
  }
 },
 "nbformat": 4,
 "nbformat_minor": 2
}
