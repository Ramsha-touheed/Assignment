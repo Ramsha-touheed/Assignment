{
 "cells": [
  {
   "cell_type": "code",
   "execution_count": 1,
   "metadata": {},
   "outputs": [
    {
     "name": "stdout",
     "output_type": "stream",
     "text": [
      "Dictionary details {'First_Name': 'laiba', 'Last_Name': 'hashmani', 'age': '20', 'city': 'Hyderabad'}\n",
      "\n",
      "Qualification updated= {'First_Name': 'laiba', 'Last_Name': 'hashmani', 'age': '20', 'city': 'Hyderabad', 'qualification': 'software engineering'}\n",
      "\n",
      "Qualification updated= {'First_Name': 'laiba', 'Last_Name': 'hashmani', 'age': '20', 'city': 'Hyderabad', 'qualification': 'software engineering', 'qulifiction': 'High acadimic level'}\n",
      "\n",
      "Qualification deleted: {'First_Name': 'laiba', 'Last_Name': 'hashmani', 'age': '20', 'city': 'Hyderabad', 'qulifiction': 'High acadimic level'}\n"
     ]
    }
   ],
   "source": [
    "data={\n",
    " \n",
    "    \"First_Name\":\"laiba\",\n",
    "    \"Last_Name\":\"hashmani\",\n",
    "    \"age\":\"20\",\n",
    "    \"city\":\"Hyderabad\",\n",
    "}\n",
    "print( \"Dictionary details\",data)\n",
    "data[\"qualification\"] =\"software engineering\"\n",
    "print(\"\\nQualification updated=\", data)\n",
    "data[\"qulifiction\"]=\"High acadimic level\"\n",
    "print(\"\\nQualification updated=\",data)\n",
    "del data[\"qualification\"]\n",
    "print (\"\\nQualification deleted:\",data)\n"
   ]
  },
  {
   "cell_type": "code",
   "execution_count": 2,
   "metadata": {},
   "outputs": [
    {
     "name": "stdout",
     "output_type": "stream",
     "text": [
      "name of cities \n",
      " dict_keys(['hyderabad', 'lahore', 'Karachi'])\n",
      "\n",
      " inforamation of cities:\n",
      "hyderabad: {'country': 'Pakistan', 'population': '10 million  ', 'Fact': ' old name is nuron kot   '} \n",
      "lahore: {'country': 'Pakistan', 'population': '20 million  ', 'Fact': ' Second largest city of Pakistan and a Tourist point    '} \n",
      "Karachi {'country': 'Pakistan', 'population': '20 million  ', 'Fact': ' known as the City of Lights for ages  '}\n"
     ]
    }
   ],
   "source": [
    "cities={\n",
    "    \"hyderabad\":{\n",
    "        \"country\":\"Pakistan\",\n",
    "        \"population\":\"10 million  \",\n",
    "        \"Fact\":\" old name is nuron kot   \"\n",
    "    },\n",
    "    \n",
    "   \"lahore\":{\n",
    "        \"country\":\"Pakistan\",\n",
    "        \"population\":\"20 million  \",\n",
    "        \"Fact\":\" Second largest city of Pakistan and a Tourist point    \"\n",
    "   },\n",
    "    \n",
    "     \"Karachi\":{\n",
    "        \"country\":\"Pakistan\",\n",
    "        \"population\":\"20 million  \",\n",
    "        \"Fact\":\" known as the City of Lights for ages  \"\n",
    "     },\n",
    "}\n",
    "print (\"name of cities \\n\",cities.keys())\n",
    "print (\"\\n inforamation of cities:\\nhyderabad:\",cities[\"hyderabad\"],\"\\nlahore:\",cities[\"lahore\"],\"\\nKarachi\",cities[\"Karachi\"])"
   ]
  },
  {
   "cell_type": "code",
   "execution_count": null,
   "metadata": {},
   "outputs": [
    {
     "name": "stdout",
     "output_type": "stream",
     "text": [
      "your age20\n",
      "Ticket price is $15\n"
     ]
    }
   ],
   "source": [
    "name= \"Pakistan is my country\"\n",
    "for loop in name:\n",
    "    age=input(\"your age\")\n",
    "    age=int(age)\n",
    "    \n",
    "    if age>=0 and age<4:\n",
    "        print (\"Ticket is free!\")\n",
    "    elif age>=4 and age<=12:\n",
    "        print (\"Ticket price is $10\")\n",
    "    elif age>12 and age<100:\n",
    "        print(\"Ticket price is $15\")\n",
    "    else:\n",
    "        print (\"Enter correct age \")\n",
    "        \n"
   ]
  },
  {
   "cell_type": "code",
   "execution_count": null,
   "metadata": {},
   "outputs": [],
   "source": []
  }
 ],
 "metadata": {
  "kernelspec": {
   "display_name": "Python 3",
   "language": "python",
   "name": "python3"
  },
  "language_info": {
   "codemirror_mode": {
    "name": "ipython",
    "version": 3
   },
   "file_extension": ".py",
   "mimetype": "text/x-python",
   "name": "python",
   "nbconvert_exporter": "python",
   "pygments_lexer": "ipython3",
   "version": "3.7.4"
  }
 },
 "nbformat": 4,
 "nbformat_minor": 2
}
