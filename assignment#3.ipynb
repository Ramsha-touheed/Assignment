{
 "cells": [
  {
   "cell_type": "code",
   "execution_count": 16,
   "metadata": {},
   "outputs": [
    {
     "name": "stdout",
     "output_type": "stream",
     "text": [
      "****************claculator*************\n",
      "Enter the First value67\n",
      "Enter the Second value67\n",
      "enter a operator:+\n",
      "134 answer\n"
     ]
    }
   ],
   "source": [
    "print (\"****************claculator*************\")\n",
    "val1 = int (input(\"Enter the First value\"))\n",
    "val2 = int (input(\"Enter the Second value\"))\n",
    "operator = input(\"enter a operator:\")\n",
    "if  operator =='+':\n",
    "    val=val1+val2\n",
    "    print(val,'answer')\n",
    "elif operator =='-':\n",
    "    val=val1-val2\n",
    "    print(val,'answer')\n",
    "elif operator =='/':\n",
    "    val=val1/val2\n",
    "    print(val,'answer')\n",
    "elif operator =='*':\n",
    "    val=val1*val2\n",
    "    print(val,'answer')\n",
    "    \n",
    "else:\n",
    "        print (\"Enter correct operator\")"
   ]
  },
  {
   "cell_type": "code",
   "execution_count": 19,
   "metadata": {},
   "outputs": [
    {
     "name": "stdout",
     "output_type": "stream",
     "text": [
      "Enter any value:40\n",
      "Number is not present in the list\n",
      "Number is not present in the list\n",
      "Number is not present in the list\n",
      "Number is present in the list\n"
     ]
    }
   ],
   "source": [
    "number=[10,20,30,40,50]\n",
    "inp=int (input(\"Enter any value:\"))\n",
    "for a in number:\n",
    "    if inp==a:\n",
    "        print (\"Number is present in the list\")\n",
    "        break\n",
    "    else:\n",
    "        print (\"Number is not present in the list\")\n",
    "        "
   ]
  },
  {
   "cell_type": "code",
   "execution_count": 22,
   "metadata": {},
   "outputs": [
    {
     "name": "stdout",
     "output_type": "stream",
     "text": [
      "{1: 'hyderabad', 2: 'karachi', 3: 'islamabad', 4: 'lahore', 5: 'peshawar'}\n"
     ]
    }
   ],
   "source": [
    "cities_name ={\n",
    "    1:\"hyderabad\",\n",
    "    2:\"karachi\",\n",
    "    3:\"islamabad\",\n",
    "    4:\"lahore\",\n",
    "}\n",
    "cities_name[5]=\"peshawar\"\n",
    "print (cities_name)"
   ]
  },
  {
   "cell_type": "code",
   "execution_count": 39,
   "metadata": {},
   "outputs": [
    {
     "name": "stdout",
     "output_type": "stream",
     "text": [
      "Duplicate elements in given list: \n",
      "2\n",
      "5\n",
      "6\n"
     ]
    }
   ],
   "source": [
    "list1 =[1,2,5,6,7,5,2,6];\n",
    "print (\"Duplicate elements in given list: \");\n",
    "\n",
    "for i in range(0, len(list1)):\n",
    "    for j in range(i+1, len(list1)):\n",
    "        if (list1[i] == list1[j]):\n",
    "            print(list1[j])"
   ]
  },
  {
   "cell_type": "code",
   "execution_count": 44,
   "metadata": {},
   "outputs": [],
   "source": [
    "cities_name={\n",
    "    'hyderabad': 400,\n",
    "    'karachi': 600,\n",
    "    'kashmir': 500,\n",
    "    'islamabad': 400\n",
    "}\n",
    "\n",
    "if 'hyderabad ' in cities_name:\n",
    "    print ('hyderabad found')"
   ]
  },
  {
   "cell_type": "code",
   "execution_count": null,
   "metadata": {},
   "outputs": [],
   "source": []
  },
  {
   "cell_type": "code",
   "execution_count": null,
   "metadata": {},
   "outputs": [],
   "source": []
  }
 ],
 "metadata": {
  "kernelspec": {
   "display_name": "Python 3",
   "language": "python",
   "name": "python3"
  },
  "language_info": {
   "codemirror_mode": {
    "name": "ipython",
    "version": 3
   },
   "file_extension": ".py",
   "mimetype": "text/x-python",
   "name": "python",
   "nbconvert_exporter": "python",
   "pygments_lexer": "ipython3",
   "version": "3.7.4"
  }
 },
 "nbformat": 4,
 "nbformat_minor": 2
}
