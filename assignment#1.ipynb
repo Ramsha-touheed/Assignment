{
 "cells": [
  {
   "cell_type": "code",
   "execution_count": 5,
   "metadata": {},
   "outputs": [
    {
     "name": "stdout",
     "output_type": "stream",
     "text": [
      "Twinkle, twinkle, little star,\n",
      "         How I wonder what you are!\n",
      "         Up above the world so high,\n",
      "         Like a diamond in the sky.\n",
      "         Twinkle, twinkle, little star,\n",
      "         How I wonder what you are!\n",
      "         \n"
     ]
    }
   ],
   "source": [
    "poem_line1 = \"Twinkle, twinkle, little star,\"\n",
    "poem_line2 =\"How I wonder what you are!\"\n",
    "poem_line3 =\"Up above the world so high,\"\n",
    "poem_line4 =\"Like a diamond in the sky.\"\n",
    "poem_line5 = \"Twinkle, twinkle, little star,\"\n",
    "poem_line6 =\"How I wonder what you are!\"\n",
    "print (poem_line1 +\"\\n\"+\"         \"+poem_line2+\"\\n\"+\"         \"+poem_line3+\"\\n\"+\"         \"+poem_line4+\"\\n\"+\"         \"\n",
    "       +poem_line5+\"\\n\"+\"         \"+poem_line6+\"\\n\"+\"         \")"
   ]
  },
  {
   "cell_type": "code",
   "execution_count": 6,
   "metadata": {},
   "outputs": [
    {
     "name": "stdout",
     "output_type": "stream",
     "text": [
      "python 3.7 version\n"
     ]
    }
   ],
   "source": [
    "version =\"python 3.7 version\"\n",
    "print(version)"
   ]
  },
  {
   "cell_type": "code",
   "execution_count": 7,
   "metadata": {},
   "outputs": [
    {
     "name": "stdout",
     "output_type": "stream",
     "text": [
      "current date and time is:\n",
      "2019-11-22 09:33:51.112177\n"
     ]
    }
   ],
   "source": [
    "import datetime \n",
    "now=datetime.datetime.now()\n",
    "print (\"current date and time is:\")\n",
    "print (str(now))"
   ]
  },
  {
   "cell_type": "code",
   "execution_count": 9,
   "metadata": {},
   "outputs": [
    {
     "name": "stdout",
     "output_type": "stream",
     "text": [
      "Enter the radius: 5\n",
      "78.5\n"
     ]
    }
   ],
   "source": [
    "radius =int(input(\"Enter the radius: \"))\n",
    "pie =3.14\n",
    "Area=pie*radius*radius\n",
    "print (Area)"
   ]
  },
  {
   "cell_type": "code",
   "execution_count": 21,
   "metadata": {},
   "outputs": [
    {
     "name": "stdout",
     "output_type": "stream",
     "text": [
      "Enter your first name: Ramsha\n",
      "Enter your last name: touheed\n",
      "R\n"
     ]
    }
   ],
   "source": [
    "def reverse(s):\n",
    "    str = \"\"\n",
    "    for i in s:\n",
    "        str = i+ str\n",
    "        return str\n",
    "    \n",
    "first_name = input(\"Enter your first name: \")\n",
    "last_name =input(\"Enter your last name: \")\n",
    "print(reverse (first_name+\"        \"+last_name ))\n"
   ]
  },
  {
   "cell_type": "code",
   "execution_count": 24,
   "metadata": {},
   "outputs": [
    {
     "name": "stdout",
     "output_type": "stream",
     "text": [
      "Enter First value: 30\n",
      "Enter Second value: 49\n",
      "79\n"
     ]
    }
   ],
   "source": [
    "first_value= int (input(\"Enter First value: \"))\n",
    "Second_value= int (input(\"Enter Second value: \"))\n",
    "sum=first_value+Second_value\n",
    "print(sum)"
   ]
  },
  {
   "cell_type": "code",
   "execution_count": null,
   "metadata": {},
   "outputs": [],
   "source": []
  }
 ],
 "metadata": {
  "kernelspec": {
   "display_name": "Python 3",
   "language": "python",
   "name": "python3"
  },
  "language_info": {
   "codemirror_mode": {
    "name": "ipython",
    "version": 3
   },
   "file_extension": ".py",
   "mimetype": "text/x-python",
   "name": "python",
   "nbconvert_exporter": "python",
   "pygments_lexer": "ipython3",
   "version": "3.7.4"
  }
 },
 "nbformat": 4,
 "nbformat_minor": 2
}
