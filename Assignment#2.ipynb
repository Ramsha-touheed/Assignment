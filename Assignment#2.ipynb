{
 "cells": [
  {
   "cell_type": "code",
   "execution_count": 1,
   "metadata": {},
   "outputs": [
    {
     "name": "stdout",
     "output_type": "stream",
     "text": [
      "enter marks for subject 1:90\n",
      "enter marks for subject 2:80\n",
      "enter marks for subject 3:80\n",
      "enter marks for subject 4:95\n",
      "enter marks for subject 5:80\n",
      "A+\n"
     ]
    }
   ],
   "source": [
    "python = int(input (\"enter marks for subject 1:\"))\n",
    "PHP= int(input (\"enter marks for subject 2:\"))\n",
    "Database =int (input (\"enter marks for subject 3:\"))\n",
    "DataStructure=int (input (\"enter marks for subject 4:\"))\n",
    "OperatingSystem=int (input (\"enter marks for subject 5:\"))\n",
    "\n",
    "per = (python + PHP + Database + DataStructure +OperatingSystem) *100/500\n",
    "if per>=85 and per<=100:\n",
    "    print (\"A+\")\n",
    "elif  per>=75 and per<=85:\n",
    "    print (\"A\")\n",
    "    \n",
    "elif  per>=65 and per<=75:\n",
    "    print (\"B\")\n",
    "     \n",
    "elif  per>=55 and per<=65:\n",
    "    print (\"C\")\n",
    "     \n",
    "elif  per>=45 and per<=55:\n",
    "    print (\"D\")\n",
    "    \n",
    "elif per >= 0 and per <45:\n",
    "        print (\"you are fail\")\n",
    "        \n",
    "else :\n",
    "        print (\"you have given inappropiate %\")\n",
    "                   \n",
    "    "
   ]
  },
  {
   "cell_type": "code",
   "execution_count": 10,
   "metadata": {},
   "outputs": [
    {
     "name": "stdout",
     "output_type": "stream",
     "text": [
      "Enter the number20\n",
      "it is an even number\n"
     ]
    }
   ],
   "source": [
    "number= int (input( \"Enter the number\"))\n",
    "if number%2 == 0:\n",
    "    print(\"it is an even number\")\n",
    "else:\n",
    "        print (\"it is an odd number\")"
   ]
  },
  {
   "cell_type": "code",
   "execution_count": 11,
   "metadata": {},
   "outputs": [
    {
     "name": "stdout",
     "output_type": "stream",
     "text": [
      "the length of the list is 6\n"
     ]
    }
   ],
   "source": [
    "Numberlist = {118,78,30,116,64,40}\n",
    "print (\"the length of the list is \" +str (len(Numberlist)))"
   ]
  },
  {
   "cell_type": "code",
   "execution_count": 12,
   "metadata": {},
   "outputs": [
    {
     "name": "stdout",
     "output_type": "stream",
     "text": [
      "Sum of all element is  446\n"
     ]
    }
   ],
   "source": [
    "Numberlist = {118,78,30,116,64,40}\n",
    "total=sum (Numberlist)\n",
    "print(\"Sum of all element is \", total)"
   ]
  },
  {
   "cell_type": "code",
   "execution_count": 18,
   "metadata": {},
   "outputs": [
    {
     "name": "stdout",
     "output_type": "stream",
     "text": [
      "the largest number is 8990\n"
     ]
    }
   ],
   "source": [
    "numlist = [56,67,78,8990,1000]\n",
    "maxlist= max(numlist)\n",
    "print (\"the largest number is\", maxlist)"
   ]
  },
  {
   "cell_type": "code",
   "execution_count": 20,
   "metadata": {},
   "outputs": [
    {
     "name": "stdout",
     "output_type": "stream",
     "text": [
      "1\n",
      "2\n",
      "3\n",
      "4\n"
     ]
    }
   ],
   "source": [
    "a=[1,2,3,4,5,6,7,8,9]\n",
    "for i in a:\n",
    "    if i<5:\n",
    "        print (i)"
   ]
  },
  {
   "cell_type": "code",
   "execution_count": null,
   "metadata": {},
   "outputs": [],
   "source": []
  },
  {
   "cell_type": "code",
   "execution_count": null,
   "metadata": {},
   "outputs": [],
   "source": []
  },
  {
   "cell_type": "code",
   "execution_count": null,
   "metadata": {},
   "outputs": [],
   "source": []
  },
  {
   "cell_type": "code",
   "execution_count": null,
   "metadata": {},
   "outputs": [],
   "source": []
  }
 ],
 "metadata": {
  "kernelspec": {
   "display_name": "Python 3",
   "language": "python",
   "name": "python3"
  },
  "language_info": {
   "codemirror_mode": {
    "name": "ipython",
    "version": 3
   },
   "file_extension": ".py",
   "mimetype": "text/x-python",
   "name": "python",
   "nbconvert_exporter": "python",
   "pygments_lexer": "ipython3",
   "version": "3.7.4"
  }
 },
 "nbformat": 4,
 "nbformat_minor": 2
}
