{
 "cells": [
  {
   "cell_type": "code",
   "execution_count": 25,
   "metadata": {},
   "outputs": [
    {
     "data": {
      "text/plain": [
       "5040"
      ]
     },
     "execution_count": 25,
     "metadata": {},
     "output_type": "execute_result"
    }
   ],
   "source": [
    "def recur_function(n):\n",
    "     if n == 1:\n",
    "        return n \n",
    "     else:\n",
    "        return n*recur_function(n-1)\n",
    "    \n",
    "recur_function(7)"
   ]
  },
  {
   "cell_type": "code",
   "execution_count": 27,
   "metadata": {},
   "outputs": [
    {
     "data": {
      "text/plain": [
       "('upper case letter: ', 7, 'lower case letters: ', 12)"
      ]
     },
     "execution_count": 27,
     "metadata": {},
     "output_type": "execute_result"
    }
   ],
   "source": [
    "def function(str_val):\n",
    "    countU = 0\n",
    "    countL = 0\n",
    "    for check in str_val:\n",
    "        if (check.isupper()) == True:\n",
    "            countU+=1\n",
    "        else: \n",
    "            countL+=1\n",
    "    return \"upper case letter: \", countU, \"lower case letters: \", countL\n",
    "\n",
    "function(\"PakIsTanIsmYCounTry\")"
   ]
  },
  {
   "cell_type": "code",
   "execution_count": 29,
   "metadata": {},
   "outputs": [
    {
     "name": "stdout",
     "output_type": "stream",
     "text": [
      " even number: 14\n",
      " even number: 78\n",
      " even number: 56\n",
      " even number: 90\n"
     ]
    }
   ],
   "source": [
    "num_list = {14, 21, 45,56, 67, 78, 89, 90}\n",
    "\n",
    "def even_function( list ):\n",
    "    for check in list:\n",
    "         if check % 2 == 0:\n",
    "            print (\" even number:\", check)\n",
    "         else:\n",
    "              continue\n",
    "    \n",
    "even_function(num_list)"
   ]
  },
  {
   "cell_type": "code",
   "execution_count": 30,
   "metadata": {},
   "outputs": [
    {
     "name": "stdout",
     "output_type": "stream",
     "text": [
      "Is the given word a palindrome? \n",
      "False\n"
     ]
    }
   ],
   "source": [
    "\n",
    "def ispalindrome(string):\n",
    "    left_pos = 0\n",
    "    right_pos = len(string) - 1\n",
    "    \n",
    "    while right_pos >= left_pos:\n",
    "        if not string[left_pos] == string[right_pos]:\n",
    "            return False \n",
    "        left_pos +=1\n",
    "        right_pos -=1\n",
    "    return True\n",
    "\n",
    "print(\"Is the given word a palindrome? \")\n",
    "print(ispalindrome('rortor'))"
   ]
  },
  {
   "cell_type": "code",
   "execution_count": 36,
   "metadata": {},
   "outputs": [
    {
     "name": "stdout",
     "output_type": "stream",
     "text": [
      "9  is a prime number? False\n"
     ]
    }
   ],
   "source": [
    "\n",
    " def check_prime(num):\n",
    "    if(num==1):\n",
    "        return False \n",
    "    elif (num==2):\n",
    "        return True\n",
    "    else:\n",
    "        for x in range(2,num):\n",
    "            if(num % x==0):\n",
    "                return False\n",
    "        return True\n",
    "    \n",
    "number = 9\n",
    "print(number,\" is a prime number?\",check_prime(number))"
   ]
  },
  {
   "cell_type": "code",
   "execution_count": 38,
   "metadata": {},
   "outputs": [
    {
     "name": "stdout",
     "output_type": "stream",
     "text": [
      "ramsha does shopping from Boulevard mall\n",
      " she bought:\n",
      "biscuits\n",
      "chips\n",
      "toffes\n",
      "sea food\n",
      " cutlery\n",
      "shoes\n",
      "changes\n",
      "jewellary\n"
     ]
    }
   ],
   "source": [
    "\n",
    "shopping_list = [\"biscuits\", \"chips\", \"toffes\", \"sea food\", \" cutlery\", \"shoes\"]\n",
    "\n",
    "def function (name, mall, others, *param):\n",
    "    print (name,\"does shopping from\" , mall)\n",
    "    print (\" she bought:\" )\n",
    "    for loop in others:\n",
    "        print(loop)\n",
    "    for loop in param:\n",
    "        print(loop)\n",
    "        \n",
    "function(\"ramsha\", \"Boulevard mall\",shopping_list, \"changes\", \"jewellary\" )\n",
    "        "
   ]
  },
  {
   "cell_type": "code",
   "execution_count": null,
   "metadata": {},
   "outputs": [],
   "source": []
  }
 ],
 "metadata": {
  "kernelspec": {
   "display_name": "Python 3",
   "language": "python",
   "name": "python3"
  },
  "language_info": {
   "codemirror_mode": {
    "name": "ipython",
    "version": 3
   },
   "file_extension": ".py",
   "mimetype": "text/x-python",
   "name": "python",
   "nbconvert_exporter": "python",
   "pygments_lexer": "ipython3",
   "version": "3.7.4"
  }
 },
 "nbformat": 4,
 "nbformat_minor": 2
}
